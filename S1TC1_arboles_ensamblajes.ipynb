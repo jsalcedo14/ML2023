{
 "cells": [
  {
   "cell_type": "markdown",
   "metadata": {},
   "source": [
    "![image info](https://raw.githubusercontent.com/albahnsen/MIAD_ML_and_NLP/main/images/banner_1.png)"
   ]
  },
  {
   "cell_type": "markdown",
   "metadata": {},
   "source": [
    "# Taller: Construcción e implementación de árboles de decisión y métodos de ensamblaje\n",
    "\n",
    "En este taller podrá poner en práctica los sus conocimientos sobre construcción e implementación de árboles de decisión y métodos de ensamblajes. El taller está constituido por 9 puntos, 5 relacionados con árboles de decisión (parte A) y 4 con métodos de ensamblaje (parte B)."
   ]
  },
  {
   "cell_type": "markdown",
   "metadata": {},
   "source": [
    "## Parte A - Árboles de decisión\n",
    "\n",
    "En esta parte del taller se usará el conjunto de datos de Capital Bikeshare de Kaggle, donde cada observación representa el alquiler de bicicletas durante una hora y día determinado. Para más detalles puede visitar los siguientes enlaces: [datos](https://archive.ics.uci.edu/ml/machine-learning-databases/00275/Bike-Sharing-Dataset.zip), [dicccionario de datos](https://archive.ics.uci.edu/ml/datasets/Bike+Sharing+Dataset#)."
   ]
  },
  {
   "cell_type": "markdown",
   "metadata": {},
   "source": [
    "### Datos prestamo de bicicletas"
   ]
  },
  {
   "cell_type": "code",
   "execution_count": 1,
   "metadata": {},
   "outputs": [],
   "source": [
    "import warnings\n",
    "warnings.filterwarnings('ignore')"
   ]
  },
  {
   "cell_type": "code",
   "execution_count": 2,
   "metadata": {},
   "outputs": [],
   "source": [
    "# Importación de librerías\n",
    "%matplotlib inline\n",
    "import pandas as pd\n",
    "import numpy as np\n",
    "from sklearn.model_selection import cross_val_score\n",
    "from sklearn.linear_model import LinearRegression\n",
    "from sklearn.tree import DecisionTreeRegressor, export_graphviz\n",
    "from sklearn.model_selection import train_test_split\n",
    "from sklearn.metrics import mean_squared_error\n",
    "from sklearn.metrics import r2_score\n",
    "import matplotlib.pyplot as plt"
   ]
  },
  {
   "cell_type": "code",
   "execution_count": 3,
   "metadata": {},
   "outputs": [
    {
     "data": {
      "text/html": [
       "<div>\n",
       "<style scoped>\n",
       "    .dataframe tbody tr th:only-of-type {\n",
       "        vertical-align: middle;\n",
       "    }\n",
       "\n",
       "    .dataframe tbody tr th {\n",
       "        vertical-align: top;\n",
       "    }\n",
       "\n",
       "    .dataframe thead th {\n",
       "        text-align: right;\n",
       "    }\n",
       "</style>\n",
       "<table border=\"1\" class=\"dataframe\">\n",
       "  <thead>\n",
       "    <tr style=\"text-align: right;\">\n",
       "      <th></th>\n",
       "      <th>season</th>\n",
       "      <th>holiday</th>\n",
       "      <th>workingday</th>\n",
       "      <th>weather</th>\n",
       "      <th>temp</th>\n",
       "      <th>atemp</th>\n",
       "      <th>humidity</th>\n",
       "      <th>windspeed</th>\n",
       "      <th>casual</th>\n",
       "      <th>registered</th>\n",
       "      <th>total</th>\n",
       "      <th>hour</th>\n",
       "    </tr>\n",
       "    <tr>\n",
       "      <th>datetime</th>\n",
       "      <th></th>\n",
       "      <th></th>\n",
       "      <th></th>\n",
       "      <th></th>\n",
       "      <th></th>\n",
       "      <th></th>\n",
       "      <th></th>\n",
       "      <th></th>\n",
       "      <th></th>\n",
       "      <th></th>\n",
       "      <th></th>\n",
       "      <th></th>\n",
       "    </tr>\n",
       "  </thead>\n",
       "  <tbody>\n",
       "    <tr>\n",
       "      <th>2011-01-01 00:00:00</th>\n",
       "      <td>1</td>\n",
       "      <td>0</td>\n",
       "      <td>0</td>\n",
       "      <td>1</td>\n",
       "      <td>9.84</td>\n",
       "      <td>14.395</td>\n",
       "      <td>81</td>\n",
       "      <td>0.0</td>\n",
       "      <td>3</td>\n",
       "      <td>13</td>\n",
       "      <td>16</td>\n",
       "      <td>0</td>\n",
       "    </tr>\n",
       "    <tr>\n",
       "      <th>2011-01-01 01:00:00</th>\n",
       "      <td>1</td>\n",
       "      <td>0</td>\n",
       "      <td>0</td>\n",
       "      <td>1</td>\n",
       "      <td>9.02</td>\n",
       "      <td>13.635</td>\n",
       "      <td>80</td>\n",
       "      <td>0.0</td>\n",
       "      <td>8</td>\n",
       "      <td>32</td>\n",
       "      <td>40</td>\n",
       "      <td>1</td>\n",
       "    </tr>\n",
       "    <tr>\n",
       "      <th>2011-01-01 02:00:00</th>\n",
       "      <td>1</td>\n",
       "      <td>0</td>\n",
       "      <td>0</td>\n",
       "      <td>1</td>\n",
       "      <td>9.02</td>\n",
       "      <td>13.635</td>\n",
       "      <td>80</td>\n",
       "      <td>0.0</td>\n",
       "      <td>5</td>\n",
       "      <td>27</td>\n",
       "      <td>32</td>\n",
       "      <td>2</td>\n",
       "    </tr>\n",
       "    <tr>\n",
       "      <th>2011-01-01 03:00:00</th>\n",
       "      <td>1</td>\n",
       "      <td>0</td>\n",
       "      <td>0</td>\n",
       "      <td>1</td>\n",
       "      <td>9.84</td>\n",
       "      <td>14.395</td>\n",
       "      <td>75</td>\n",
       "      <td>0.0</td>\n",
       "      <td>3</td>\n",
       "      <td>10</td>\n",
       "      <td>13</td>\n",
       "      <td>3</td>\n",
       "    </tr>\n",
       "    <tr>\n",
       "      <th>2011-01-01 04:00:00</th>\n",
       "      <td>1</td>\n",
       "      <td>0</td>\n",
       "      <td>0</td>\n",
       "      <td>1</td>\n",
       "      <td>9.84</td>\n",
       "      <td>14.395</td>\n",
       "      <td>75</td>\n",
       "      <td>0.0</td>\n",
       "      <td>0</td>\n",
       "      <td>1</td>\n",
       "      <td>1</td>\n",
       "      <td>4</td>\n",
       "    </tr>\n",
       "  </tbody>\n",
       "</table>\n",
       "</div>"
      ],
      "text/plain": [
       "                     season  holiday  workingday  weather  temp   atemp  \\\n",
       "datetime                                                                  \n",
       "2011-01-01 00:00:00       1        0           0        1  9.84  14.395   \n",
       "2011-01-01 01:00:00       1        0           0        1  9.02  13.635   \n",
       "2011-01-01 02:00:00       1        0           0        1  9.02  13.635   \n",
       "2011-01-01 03:00:00       1        0           0        1  9.84  14.395   \n",
       "2011-01-01 04:00:00       1        0           0        1  9.84  14.395   \n",
       "\n",
       "                     humidity  windspeed  casual  registered  total  hour  \n",
       "datetime                                                                   \n",
       "2011-01-01 00:00:00        81        0.0       3          13     16     0  \n",
       "2011-01-01 01:00:00        80        0.0       8          32     40     1  \n",
       "2011-01-01 02:00:00        80        0.0       5          27     32     2  \n",
       "2011-01-01 03:00:00        75        0.0       3          10     13     3  \n",
       "2011-01-01 04:00:00        75        0.0       0           1      1     4  "
      ]
     },
     "execution_count": 3,
     "metadata": {},
     "output_type": "execute_result"
    }
   ],
   "source": [
    "# Lectura de la información de archivo .csv\n",
    "bikes = pd.read_csv('https://raw.githubusercontent.com/davidzarruk/MIAD_ML_NLP_2023/main/datasets/bikeshare.csv', index_col='datetime', parse_dates=True)\n",
    "\n",
    "# Renombrar variable \"count\" a \"total\"\n",
    "bikes.rename(columns={'count':'total'}, inplace=True)\n",
    "\n",
    "# Crear la hora como una variable \n",
    "bikes['hour'] = bikes.index.hour\n",
    "\n",
    "# Visualización de los datos\n",
    "bikes.head()"
   ]
  },
  {
   "cell_type": "markdown",
   "metadata": {},
   "source": [
    "### Punto 1 - Análisis descriptivo\n",
    "\n",
    "Ejecute las celdas 1.1 y 1.2. A partir de los resultados realice un análisis descriptivo sobre las variables \"season\" y \"hour\", escriba sus inferencias sobre los datos. Para complementar su análisis puede usar métricas como máximo, mínimo, percentiles entre otros."
   ]
  },
  {
   "cell_type": "code",
   "execution_count": 4,
   "metadata": {},
   "outputs": [
    {
     "data": {
      "text/plain": [
       "season\n",
       "1    116.343261\n",
       "2    215.251372\n",
       "3    234.417124\n",
       "4    198.988296\n",
       "Name: total, dtype: float64"
      ]
     },
     "execution_count": 4,
     "metadata": {},
     "output_type": "execute_result"
    }
   ],
   "source": [
    "# Celda 1.1\n",
    "bikes.groupby('season').total.mean()"
   ]
  },
  {
   "cell_type": "code",
   "execution_count": 5,
   "metadata": {
    "scrolled": true
   },
   "outputs": [
    {
     "data": {
      "text/plain": [
       "hour\n",
       "0      55.138462\n",
       "1      33.859031\n",
       "2      22.899554\n",
       "3      11.757506\n",
       "4       6.407240\n",
       "5      19.767699\n",
       "6      76.259341\n",
       "7     213.116484\n",
       "8     362.769231\n",
       "9     221.780220\n",
       "10    175.092308\n",
       "11    210.674725\n",
       "12    256.508772\n",
       "13    257.787281\n",
       "14    243.442982\n",
       "15    254.298246\n",
       "16    316.372807\n",
       "17    468.765351\n",
       "18    430.859649\n",
       "19    315.278509\n",
       "20    228.517544\n",
       "21    173.370614\n",
       "22    133.576754\n",
       "23     89.508772\n",
       "Name: total, dtype: float64"
      ]
     },
     "execution_count": 5,
     "metadata": {},
     "output_type": "execute_result"
    }
   ],
   "source": [
    "# Celda 1.2\n",
    "bikes.groupby('hour').total.mean()"
   ]
  },
  {
   "cell_type": "markdown",
   "metadata": {},
   "source": [
    "#### Resultados\n",
    "* En promedio se rentan más bicicletas en temporada de verano, ya que tiene una media superior a las demás tmporadas con un valor de 234 bicicletas.\n",
    "* Las horas del día en las que más bicicletas se rentan son 17,18 y 8, ya que en promedio se rentan 468,430 y 362 bicicletas respectivamente."
   ]
  },
  {
   "cell_type": "markdown",
   "metadata": {},
   "source": [
    "### Punto 2 - Análisis de gráficos\n",
    "\n",
    "Primero ejecute la celda 2.1 y asegúrese de comprender el código y el resultado. Luego, en cada una de celdas 2.2 y 2.3 escriba un código que genere una gráfica del número de bicicletas rentadas promedio para cada valor de la variable \"hour\" (hora) cuando la variable \"season\" es igual a 1 (invierno) e igual a 3 (verano), respectivamente. Analice y escriba sus hallazgos."
   ]
  },
  {
   "cell_type": "code",
   "execution_count": 6,
   "metadata": {},
   "outputs": [
    {
     "data": {
      "text/plain": [
       "<AxesSubplot:xlabel='hour'>"
      ]
     },
     "execution_count": 6,
     "metadata": {},
     "output_type": "execute_result"
    },
    {
     "data": {
      "image/png": "[encoded data removed]",
      "text/plain": [
       "<Figure size 432x288 with 1 Axes>"
      ]
     },
     "metadata": {
      "needs_background": "light"
     },
     "output_type": "display_data"
    }
   ],
   "source": [
    "# Celda 2.1 - rentas promedio para cada valor de la variable \"hour\"\n",
    "bikes.groupby('hour').total.mean().plot()"
   ]
  },
  {
   "cell_type": "code",
   "execution_count": 7,
   "metadata": {},
   "outputs": [
    {
     "data": {
      "text/plain": [
       "<AxesSubplot:xlabel='hour'>"
      ]
     },
     "execution_count": 7,
     "metadata": {},
     "output_type": "execute_result"
    },
    {
     "data": {
      "image/png": "[encoded data removed]",
      "text/plain": [
       "<Figure size 432x288 with 1 Axes>"
      ]
     },
     "metadata": {
      "needs_background": "light"
     },
     "output_type": "display_data"
    }
   ],
   "source": [
    "# Celda 2.2 - \"season\"=1 escriba su código y hallazgos \n",
    "bikes[bikes['season'] == 1].groupby('hour').total.mean().plot()"
   ]
  },
  {
   "cell_type": "code",
   "execution_count": 8,
   "metadata": {},
   "outputs": [
    {
     "data": {
      "text/plain": [
       "<AxesSubplot:xlabel='hour'>"
      ]
     },
     "execution_count": 8,
     "metadata": {},
     "output_type": "execute_result"
    },
    {
     "data": {
      "image/png": "[encoded data removed]",
      "text/plain": [
       "<Figure size 432x288 with 1 Axes>"
      ]
     },
     "metadata": {
      "needs_background": "light"
     },
     "output_type": "display_data"
    }
   ],
   "source": [
    "# Celda 2.3 - \"season\"=3 escriba su código y hallazgos \n",
    "bikes[bikes['season'] == 3].groupby('hour').total.mean().plot()"
   ]
  },
  {
   "cell_type": "markdown",
   "metadata": {},
   "source": [
    "#### Resultados\n",
    "* Tal y como se observa anteriormente, en la gráfica del promedio de bicicletas rentadas por hora sobresale que desde las 15 a las 17 horas se rentan más bicicletas que en el resto del día.\n",
    "* al observar que el promedio de bicicletas rentadas por estación es mayor para el verano, también se observa esto en el alquiler de bicicletas en el inverno en dónde el promedio máximo para las 17 siendo la hora de mayor demanda es de 270, mientras que en el verano esta misma hora refleja alrededor de 525 ."
   ]
  },
  {
   "cell_type": "markdown",
   "metadata": {
    "tags": []
   },
   "source": [
    "### Punto 3 - Regresión lineal\n",
    "En la celda 3 ajuste un modelo de regresión lineal a todo el conjunto de datos, utilizando \"total\" como variable de respuesta y \"season\" y \"hour\" como las únicas variables predictoras, teniendo en cuenta que la variable \"season\" es categórica. Luego, imprima los coeficientes e interprételos. ¿Cuáles son las limitaciones de la regresión lineal en este caso?"
   ]
  },
  {
   "cell_type": "code",
   "execution_count": 9,
   "metadata": {},
   "outputs": [
    {
     "name": "stdout",
     "output_type": "stream",
     "text": [
      "                     holiday  workingday  weather  temp   atemp  humidity  \\\n",
      "datetime                                                                    \n",
      "2011-01-01 00:00:00        0           0        1  9.84  14.395        81   \n",
      "2011-01-01 01:00:00        0           0        1  9.02  13.635        80   \n",
      "2011-01-01 02:00:00        0           0        1  9.02  13.635        80   \n",
      "2011-01-01 03:00:00        0           0        1  9.84  14.395        75   \n",
      "2011-01-01 04:00:00        0           0        1  9.84  14.395        75   \n",
      "\n",
      "                     windspeed  casual  registered  total  hour  season_1  \\\n",
      "datetime                                                                    \n",
      "2011-01-01 00:00:00        0.0       3          13     16     0         1   \n",
      "2011-01-01 01:00:00        0.0       8          32     40     1         1   \n",
      "2011-01-01 02:00:00        0.0       5          27     32     2         1   \n",
      "2011-01-01 03:00:00        0.0       3          10     13     3         1   \n",
      "2011-01-01 04:00:00        0.0       0           1      1     4         1   \n",
      "\n",
      "                     season_2  season_3  season_4  \n",
      "datetime                                           \n",
      "2011-01-01 00:00:00         0         0         0  \n",
      "2011-01-01 01:00:00         0         0         0  \n",
      "2011-01-01 02:00:00         0         0         0  \n",
      "2011-01-01 03:00:00         0         0         0  \n",
      "2011-01-01 04:00:00         0         0         0  \n"
     ]
    }
   ],
   "source": [
    "#Dumificar la variable season\n",
    "bikes_=bikes.copy()\n",
    "bikes_d = pd.get_dummies(bikes['season'], prefix='season')\n",
    "bikes_ = bikes.drop('season', axis=1)\n",
    "bikes_dummies = pd.concat([bikes_, bikes_d], axis=1)\n",
    "print(bikes_dummies.head())"
   ]
  },
  {
   "cell_type": "code",
   "execution_count": 10,
   "metadata": {},
   "outputs": [
    {
     "data": {
      "image/png": "[encoded data removed]",
      "text/plain": [
       "<Figure size 432x288 with 1 Axes>"
      ]
     },
     "metadata": {
      "needs_background": "light"
     },
     "output_type": "display_data"
    },
    {
     "data": {
      "image/png": "[encoded data removed]",
      "text/plain": [
       "<Figure size 432x288 with 1 Axes>"
      ]
     },
     "metadata": {
      "needs_background": "light"
     },
     "output_type": "display_data"
    },
    {
     "data": {
      "image/png": "[encoded data removed]",
      "text/plain": [
       "<Figure size 432x288 with 1 Axes>"
      ]
     },
     "metadata": {
      "needs_background": "light"
     },
     "output_type": "display_data"
    },
    {
     "data": {
      "image/png": "[encoded data removed]",
      "text/plain": [
       "<Figure size 432x288 with 1 Axes>"
      ]
     },
     "metadata": {
      "needs_background": "light"
     },
     "output_type": "display_data"
    },
    {
     "data": {
      "image/png": "[encoded data removed]",
      "text/plain": [
       "<Figure size 432x288 with 1 Axes>"
      ]
     },
     "metadata": {
      "needs_background": "light"
     },
     "output_type": "display_data"
    },
    {
     "data": {
      "image/png": "[encoded data removed]",
      "text/plain": [
       "<Figure size 432x288 with 1 Axes>"
      ]
     },
     "metadata": {
      "needs_background": "light"
     },
     "output_type": "display_data"
    }
   ],
   "source": [
    "columns=['season_1','season_2','season_3','season_4','hour','total']\n",
    "for col in bikes_dummies[columns]:\n",
    "    plt.figure()\n",
    "    plt.boxplot(bikes_dummies[col])\n",
    "    plt.title(col)\n",
    "\n",
    "# Mostrar los boxplots\n",
    "plt.show()"
   ]
  },
  {
   "cell_type": "code",
   "execution_count": 11,
   "metadata": {},
   "outputs": [
    {
     "name": "stdout",
     "output_type": "stream",
     "text": [
      "Coeficientes:  [-76.79345561  24.11431232  42.2252086   10.45393469  10.62873885]\n"
     ]
    },
    {
     "data": {
      "text/plain": [
       "[25644.421108938277, 0.21408313805648105]"
      ]
     },
     "execution_count": 11,
     "metadata": {},
     "output_type": "execute_result"
    }
   ],
   "source": [
    "# Celda 3\n",
    "#definición test y train\n",
    "\n",
    "XTotal=bikes_dummies[['season_1','season_2','season_3','season_4','hour']]\n",
    "yTotal=bikes_dummies['total']\n",
    "XTrain, XTest, yTrain, yTest = train_test_split(XTotal, yTotal, test_size=0.33, random_state=0)\n",
    "def linear_regression(XTrain, XTest, yTrain, yTest):\n",
    "    model = LinearRegression()\n",
    "    model.fit(XTrain, yTrain)\n",
    "    yPred = model.predict(XTest)\n",
    "    mse = mean_squared_error(yTest, yPred)\n",
    "    r2 = r2_score(yTest, yPred)\n",
    "    adj_r2 = 1 - (1-r2)*(len(yTest)-1)/(len(yTest)-XTest.shape[1]-1)\n",
    "    print(\"Coeficientes: \", model.coef_)\n",
    "    return [mse, adj_r2]\n",
    "linear_regression(XTrain, XTest, yTrain, yTest)"
   ]
  },
  {
   "cell_type": "markdown",
   "metadata": {},
   "source": [
    "#### Resultados\n",
    "* Luego de generar los dummies a partir de la variable season, y generar la regresión con el ajuste en el dataset, se obtiene un mse de 25.644 y un r2 ajustado de 0.214.\n",
    "* Al generar los coeficientes, por ejemplo la variable season_3 indica que la cantidad de bicicletas alquiladas aumenta en promedio en 42.23 unidades cuando la temporada es la 3 (verano) y disminuye en que la cantidad de bicicletas alquiladas disminuye en promedio en 76.79 unidades cuando la temporada es la 1 (invierno).\n",
    "* La variable a predecir \"total\" tiene demasiados outliers como se muestra anteriormente en el boxplot por ende, un modelo como la regresión lineal se ve afectado por esto, se recomienda usar un modelo que no se vea afectado por esto como un arbol de decisión."
   ]
  },
  {
   "cell_type": "markdown",
   "metadata": {
    "tags": []
   },
   "source": [
    "### Punto 4 - Árbol de decisión manual\n",
    "En la celda 4 cree un árbol de decisiones para pronosticar la variable \"total\" iterando **manualmente** sobre las variables \"hour\" y  \"season\". El árbol debe tener al menos 6 nodos finales."
   ]
  },
  {
   "cell_type": "code",
   "execution_count": 12,
   "metadata": {},
   "outputs": [
    {
     "name": "stdout",
     "output_type": "stream",
     "text": [
      "count    10886.000000\n",
      "mean       191.574132\n",
      "std        181.144454\n",
      "min          1.000000\n",
      "25%         42.000000\n",
      "50%        145.000000\n",
      "75%        284.000000\n",
      "max        977.000000\n",
      "Name: total, dtype: float64\n"
     ]
    },
    {
     "data": {
      "text/plain": [
       "datetime\n",
       "2011-01-01 00:00:00    0\n",
       "2011-01-01 01:00:00    0\n",
       "2011-01-01 02:00:00    0\n",
       "2011-01-01 03:00:00    0\n",
       "2011-01-01 04:00:00    0\n",
       "                      ..\n",
       "2012-12-19 19:00:00    1\n",
       "2012-12-19 20:00:00    1\n",
       "2012-12-19 21:00:00    1\n",
       "2012-12-19 22:00:00    0\n",
       "2012-12-19 23:00:00    0\n",
       "Name: total, Length: 10886, dtype: int32"
      ]
     },
     "execution_count": 12,
     "metadata": {},
     "output_type": "execute_result"
    }
   ],
   "source": [
    "\n",
    "#División X y Y\n",
    "print(bikes['total'].describe())\n",
    "X = bikes[['season','hour']]\n",
    "y = (bikes.total > 145).astype(int)\n",
    "y"
   ]
  },
  {
   "cell_type": "code",
   "execution_count": 13,
   "metadata": {},
   "outputs": [],
   "source": [
    "# Celda 4\n",
    "\n",
    "#Genera un arbol de decisión a partir de parámetros dados\n",
    "def gini(y):\n",
    "    if y.shape[0] == 0:\n",
    "        return 0\n",
    "    else:\n",
    "        return 1 - (y.mean()**2 + (1 - y.mean())**2)\n",
    "    \n",
    "def gini_impurity(X_col, y, split):\n",
    "    \n",
    "    filter_l = X_col < split\n",
    "    y_l = y.loc[filter_l]\n",
    "    y_r = y.loc[~filter_l]\n",
    "    \n",
    "    n_l = y_l.shape[0]\n",
    "    n_r = y_r.shape[0]\n",
    "    \n",
    "    gini_y = gini(y)\n",
    "    gini_l = gini(y_l)\n",
    "    gini_r = gini(y_r)\n",
    "    \n",
    "    gini_impurity_ = gini_y - (n_l / (n_l + n_r) * gini_l + n_r / (n_l + n_r) * gini_r)\n",
    "    \n",
    "    return gini_impurity_\n",
    "\n",
    "\n",
    "\n",
    "\n",
    "def best_split(X, y, num_pct=10):\n",
    "    \n",
    "    features = range(X.shape[1])\n",
    "    \n",
    "    best_split = [0, 0, 0]  # j, split, gain\n",
    "    \n",
    "    # Para todas las varibles \n",
    "    for j in features:\n",
    "        \n",
    "        splits = np.percentile(X.iloc[:, j], np.arange(0, 100, 100.0 / (num_pct+1)).tolist())\n",
    "        splits = np.unique(splits)[1:]\n",
    "        \n",
    "        # Para cada partición\n",
    "        for split in splits:\n",
    "            gain = gini_impurity(X.iloc[:, j], y, split)\n",
    "                        \n",
    "            if gain > best_split[2]:\n",
    "                best_split = [j, split, gain]\n",
    "    \n",
    "    return best_split\n",
    "\n",
    "\n",
    "def tree_grow(X, y, level=0, min_gain=0.001, max_depth=None, num_pct=10):\n",
    "    \n",
    "    # Si solo es una observación\n",
    "    if X.shape[0] == 1:\n",
    "        tree = dict(y_pred=y.iloc[:1].values[0], y_prob=0.5, level=level, split=-1, n_samples=1, gain=0)\n",
    "        return tree\n",
    "    \n",
    "    # Calcular la mejor división\n",
    "    j, split, gain = best_split(X, y, num_pct)\n",
    "    \n",
    "    # Guardar el árbol y estimar la predicción\n",
    "    y_pred = int(y.mean() >= 0.5) \n",
    "    y_prob = (y.sum() + 1.0) / (y.shape[0] + 2.0)  # Corrección Laplace \n",
    "    \n",
    "    tree = dict(y_pred=y_pred, y_prob=y_prob, level=level, split=-1, n_samples=X.shape[0], gain=gain)\n",
    "    # Revisar el criterio de parada \n",
    "    if gain < min_gain:\n",
    "        return tree\n",
    "    if max_depth is not None:\n",
    "        if level >= max_depth:\n",
    "            return tree   \n",
    "    \n",
    "    # Continuar creando la partición\n",
    "    filter_l = X.iloc[:, j] < split\n",
    "    X_l, y_l = X.loc[filter_l], y.loc[filter_l]\n",
    "    X_r, y_r = X.loc[~filter_l], y.loc[~filter_l]\n",
    "    tree['split'] = [j, split]\n",
    "\n",
    "    # Siguiente iteración para cada partición\n",
    "    \n",
    "    tree['sl'] = tree_grow(X_l, y_l, level + 1, min_gain=min_gain, max_depth=max_depth, num_pct=num_pct)\n",
    "    tree['sr'] = tree_grow(X_r, y_r, level + 1, min_gain=min_gain, max_depth=max_depth, num_pct=num_pct)\n",
    "    \n",
    "    return tree"
   ]
  },
  {
   "cell_type": "code",
   "execution_count": 14,
   "metadata": {},
   "outputs": [
    {
     "data": {
      "text/plain": [
       "{'y_pred': 0,\n",
       " 'y_prob': 0.49917340191036,\n",
       " 'level': 0,\n",
       " 'split': [1, 8.0],\n",
       " 'n_samples': 10886,\n",
       " 'gain': 0.16178755449047394,\n",
       " 'sl': {'y_pred': 0,\n",
       "  'y_prob': 0.0942714126807564,\n",
       "  'level': 1,\n",
       "  'split': [1, 7.0],\n",
       "  'n_samples': 3594,\n",
       "  'gain': 0.06425451863089747,\n",
       "  'sl': {'y_pred': 0,\n",
       "   'y_prob': 0.026106335561922954,\n",
       "   'level': 2,\n",
       "   'split': [1, 6.0],\n",
       "   'n_samples': 3139,\n",
       "   'gain': 0.0027878761479700337,\n",
       "   'sl': {'y_pred': 0,\n",
       "    'y_prob': 0.010796723752792257,\n",
       "    'level': 3,\n",
       "    'split': -1,\n",
       "    'n_samples': 2684,\n",
       "    'gain': 0.0008089140964271449},\n",
       "   'sr': {'y_pred': 0,\n",
       "    'y_prob': 0.11816192560175055,\n",
       "    'level': 3,\n",
       "    'split': [0, 3.0],\n",
       "    'n_samples': 455,\n",
       "    'gain': 0.009214309359181827,\n",
       "    'sl': {'y_pred': 0,\n",
       "     'y_prob': 0.05240174672489083,\n",
       "     'level': 4,\n",
       "     'split': [0, 2.0],\n",
       "     'n_samples': 227,\n",
       "     'gain': 0.004655188204359839,\n",
       "     'sl': {'y_pred': 0,\n",
       "      'y_prob': 0.008695652173913044,\n",
       "      'level': 5,\n",
       "      'split': -1,\n",
       "      'n_samples': 113,\n",
       "      'gain': 0},\n",
       "     'sr': {'y_pred': 0,\n",
       "      'y_prob': 0.10344827586206896,\n",
       "      'level': 5,\n",
       "      'split': -1,\n",
       "      'n_samples': 114,\n",
       "      'gain': 0}},\n",
       "    'sr': {'y_pred': 0,\n",
       "     'y_prob': 0.18695652173913044,\n",
       "     'level': 4,\n",
       "     'split': [0, 4.0],\n",
       "     'n_samples': 228,\n",
       "     'gain': 0.007540781779009076,\n",
       "     'sl': {'y_pred': 0,\n",
       "      'y_prob': 0.25,\n",
       "      'level': 5,\n",
       "      'split': -1,\n",
       "      'n_samples': 114,\n",
       "      'gain': 0},\n",
       "     'sr': {'y_pred': 0,\n",
       "      'y_prob': 0.12931034482758622,\n",
       "      'level': 5,\n",
       "      'split': -1,\n",
       "      'n_samples': 114,\n",
       "      'gain': 0}}}},\n",
       "  'sr': {'y_pred': 1,\n",
       "   'y_prob': 0.5645514223194749,\n",
       "   'level': 2,\n",
       "   'split': [0, 2.0],\n",
       "   'n_samples': 455,\n",
       "   'gain': 0.03724340536882442,\n",
       "   'sl': {'y_pred': 0,\n",
       "    'y_prob': 0.33043478260869563,\n",
       "    'level': 3,\n",
       "    'split': -1,\n",
       "    'n_samples': 113,\n",
       "    'gain': 0},\n",
       "   'sr': {'y_pred': 1,\n",
       "    'y_prob': 0.6424418604651163,\n",
       "    'level': 3,\n",
       "    'split': -1,\n",
       "    'n_samples': 342,\n",
       "    'gain': 0.000136794227283632}}},\n",
       " 'sr': {'y_pred': 1,\n",
       "  'y_prob': 0.6987935289278859,\n",
       "  'level': 1,\n",
       "  'split': [0, 2.0],\n",
       "  'n_samples': 7292,\n",
       "  'gain': 0.05853892375774267,\n",
       "  'sl': {'y_pred': 0,\n",
       "   'y_prob': 0.40230515916575194,\n",
       "   'level': 2,\n",
       "   'split': [1, 21.0],\n",
       "   'n_samples': 1820,\n",
       "   'gain': 0.04242711375552333,\n",
       "   'sl': {'y_pred': 0,\n",
       "    'y_prob': 0.4722972972972973,\n",
       "    'level': 3,\n",
       "    'split': [1, 16.0],\n",
       "    'n_samples': 1478,\n",
       "    'gain': 0.012037132208006285,\n",
       "    'sl': {'y_pred': 0,\n",
       "     'y_prob': 0.41098901098901097,\n",
       "     'level': 4,\n",
       "     'split': [1, 9.0],\n",
       "     'n_samples': 908,\n",
       "     'gain': 0.01693500906686085,\n",
       "     'sl': {'y_pred': 1,\n",
       "      'y_prob': 0.6521739130434783,\n",
       "      'level': 5,\n",
       "      'split': -1,\n",
       "      'n_samples': 113,\n",
       "      'gain': 0},\n",
       "     'sr': {'y_pred': 0,\n",
       "      'y_prob': 0.37641154328732745,\n",
       "      'level': 5,\n",
       "      'split': [1, 12.0],\n",
       "      'n_samples': 795,\n",
       "      'gain': 0.00654873852273985,\n",
       "      'sl': {'y_pred': 0,\n",
       "       'y_prob': 0.31085043988269795,\n",
       "       'level': 6,\n",
       "       'split': -1,\n",
       "       'n_samples': 339,\n",
       "       'gain': 0.020048555094369258},\n",
       "      'sr': {'y_pred': 0,\n",
       "       'y_prob': 0.425764192139738,\n",
       "       'level': 6,\n",
       "       'split': -1,\n",
       "       'n_samples': 456,\n",
       "       'gain': 0.000615574022776233}}},\n",
       "    'sr': {'y_pred': 1,\n",
       "     'y_prob': 0.5699300699300699,\n",
       "     'level': 4,\n",
       "     'split': [1, 19.0],\n",
       "     'n_samples': 570,\n",
       "     'gain': 0.035113368215861196,\n",
       "     'sl': {'y_pred': 1,\n",
       "      'y_prob': 0.6773255813953488,\n",
       "      'level': 5,\n",
       "      'split': [1, 17.0],\n",
       "      'n_samples': 342,\n",
       "      'gain': 0.03181320748264432,\n",
       "      'sl': {'y_pred': 1,\n",
       "       'y_prob': 0.5,\n",
       "       'level': 6,\n",
       "       'split': -1,\n",
       "       'n_samples': 114,\n",
       "       'gain': 0},\n",
       "      'sr': {'y_pred': 1,\n",
       "       'y_prob': 0.7652173913043478,\n",
       "       'level': 6,\n",
       "       'split': -1,\n",
       "       'n_samples': 228,\n",
       "       'gain': 0.0009618344105878363}},\n",
       "     'sr': {'y_pred': 0,\n",
       "      'y_prob': 0.40869565217391307,\n",
       "      'level': 5,\n",
       "      'split': [1, 20.0],\n",
       "      'n_samples': 228,\n",
       "      'gain': 0.011118805786395902,\n",
       "      'sl': {'y_pred': 0,\n",
       "       'y_prob': 0.4827586206896552,\n",
       "       'level': 6,\n",
       "       'split': -1,\n",
       "       'n_samples': 114,\n",
       "       'gain': 0},\n",
       "      'sr': {'y_pred': 0,\n",
       "       'y_prob': 0.33620689655172414,\n",
       "       'level': 6,\n",
       "       'split': -1,\n",
       "       'n_samples': 114,\n",
       "       'gain': 0}}}},\n",
       "   'sr': {'y_pred': 0,\n",
       "    'y_prob': 0.10174418604651163,\n",
       "    'level': 3,\n",
       "    'split': [1, 22.0],\n",
       "    'n_samples': 342,\n",
       "    'gain': 0.012345679012345678,\n",
       "    'sl': {'y_pred': 0,\n",
       "     'y_prob': 0.21551724137931033,\n",
       "     'level': 4,\n",
       "     'split': -1,\n",
       "     'n_samples': 114,\n",
       "     'gain': 0},\n",
       "    'sr': {'y_pred': 0,\n",
       "     'y_prob': 0.04782608695652174,\n",
       "     'level': 4,\n",
       "     'split': [1, 23.0],\n",
       "     'n_samples': 228,\n",
       "     'gain': 0.002462296091104932,\n",
       "     'sl': {'y_pred': 0,\n",
       "      'y_prob': 0.08620689655172414,\n",
       "      'level': 5,\n",
       "      'split': -1,\n",
       "      'n_samples': 114,\n",
       "      'gain': 0},\n",
       "     'sr': {'y_pred': 0,\n",
       "      'y_prob': 0.017241379310344827,\n",
       "      'level': 5,\n",
       "      'split': -1,\n",
       "      'n_samples': 114,\n",
       "      'gain': 0}}}},\n",
       "  'sr': {'y_pred': 1,\n",
       "   'y_prob': 0.7974059188892948,\n",
       "   'level': 2,\n",
       "   'split': [1, 22.0],\n",
       "   'n_samples': 5472,\n",
       "   'gain': 0.052248219232291115,\n",
       "   'sl': {'y_pred': 1,\n",
       "    'y_prob': 0.858455114822547,\n",
       "    'level': 3,\n",
       "    'split': [1, 13.0],\n",
       "    'n_samples': 4788,\n",
       "    'gain': 0.005310130504329658,\n",
       "    'sl': {'y_pred': 1,\n",
       "     'y_prob': 0.7891355140186916,\n",
       "     'level': 4,\n",
       "     'split': [1, 12.0],\n",
       "     'n_samples': 1710,\n",
       "     'gain': 0.006502000615573877,\n",
       "     'sl': {'y_pred': 1,\n",
       "      'y_prob': 0.7605839416058394,\n",
       "      'level': 5,\n",
       "      'split': [1, 10.0],\n",
       "      'n_samples': 1368,\n",
       "      'gain': 0.008465211518074056,\n",
       "      'sl': {'y_pred': 1,\n",
       "       'y_prob': 0.8250728862973761,\n",
       "       'level': 6,\n",
       "       'split': -1,\n",
       "       'n_samples': 684,\n",
       "       'gain': 0.00865650969529086},\n",
       "      'sr': {'y_pred': 1,\n",
       "       'y_prob': 0.6953352769679301,\n",
       "       'level': 6,\n",
       "       'split': -1,\n",
       "       'n_samples': 684,\n",
       "       'gain': 0.00904551827912864}},\n",
       "     'sr': {'y_pred': 1,\n",
       "      'y_prob': 0.9011627906976745,\n",
       "      'level': 5,\n",
       "      'split': [0, 3.0],\n",
       "      'n_samples': 342,\n",
       "      'gain': 0.001231148045552466,\n",
       "      'sl': {'y_pred': 1,\n",
       "       'y_prob': 0.8620689655172413,\n",
       "       'level': 6,\n",
       "       'split': -1,\n",
       "       'n_samples': 114,\n",
       "       'gain': 0},\n",
       "      'sr': {'y_pred': 1,\n",
       "       'y_prob': 0.9173913043478261,\n",
       "       'level': 6,\n",
       "       'split': -1,\n",
       "       'n_samples': 228,\n",
       "       'gain': 0.0013850415512465242}}},\n",
       "    'sr': {'y_pred': 1,\n",
       "     'y_prob': 0.8967532467532467,\n",
       "     'level': 4,\n",
       "     'split': [1, 21.0],\n",
       "     'n_samples': 3078,\n",
       "     'gain': 0.005296132058782654,\n",
       "     'sl': {'y_pred': 1,\n",
       "      'y_prob': 0.9149013878743608,\n",
       "      'level': 5,\n",
       "      'split': [1, 16.0],\n",
       "      'n_samples': 2736,\n",
       "      'gain': 0.0021077710520614745,\n",
       "      'sl': {'y_pred': 1,\n",
       "       'y_prob': 0.872568093385214,\n",
       "       'level': 6,\n",
       "       'split': -1,\n",
       "       'n_samples': 1026,\n",
       "       'gain': 0.0015968826115537738},\n",
       "      'sr': {'y_pred': 1,\n",
       "       'y_prob': 0.9398364485981309,\n",
       "       'level': 6,\n",
       "       'split': -1,\n",
       "       'n_samples': 1710,\n",
       "       'gain': 0.0030246913580245505}},\n",
       "     'sr': {'y_pred': 1,\n",
       "      'y_prob': 0.75,\n",
       "      'level': 5,\n",
       "      'split': [0, 4.0],\n",
       "      'n_samples': 342,\n",
       "      'gain': 0.021374098013064002,\n",
       "      'sl': {'y_pred': 1,\n",
       "       'y_prob': 0.8217391304347826,\n",
       "       'level': 6,\n",
       "       'split': -1,\n",
       "       'n_samples': 228,\n",
       "       'gain': 0.007540781779008854},\n",
       "      'sr': {'y_pred': 1,\n",
       "       'y_prob': 0.603448275862069,\n",
       "       'level': 6,\n",
       "       'split': -1,\n",
       "       'n_samples': 114,\n",
       "       'gain': 0}}}},\n",
       "   'sr': {'y_pred': 0,\n",
       "    'y_prob': 0.37026239067055394,\n",
       "    'level': 3,\n",
       "    'split': [1, 23.0],\n",
       "    'n_samples': 684,\n",
       "    'gain': 0.060535720392599524,\n",
       "    'sl': {'y_pred': 1,\n",
       "     'y_prob': 0.5436046511627907,\n",
       "     'level': 4,\n",
       "     'split': [0, 4.0],\n",
       "     'n_samples': 342,\n",
       "     'gain': 0.04432132963988927,\n",
       "     'sl': {'y_pred': 1,\n",
       "      'y_prob': 0.6478260869565218,\n",
       "      'level': 5,\n",
       "      'split': [0, 3.0],\n",
       "      'n_samples': 228,\n",
       "      'gain': 0.012465373961218884,\n",
       "      'sl': {'y_pred': 1,\n",
       "       'y_prob': 0.5689655172413793,\n",
       "       'level': 6,\n",
       "       'split': -1,\n",
       "       'n_samples': 114,\n",
       "       'gain': 0},\n",
       "      'sr': {'y_pred': 1,\n",
       "       'y_prob': 0.7241379310344828,\n",
       "       'level': 6,\n",
       "       'split': -1,\n",
       "       'n_samples': 114,\n",
       "       'gain': 0}},\n",
       "     'sr': {'y_pred': 0,\n",
       "      'y_prob': 0.33620689655172414,\n",
       "      'level': 5,\n",
       "      'split': -1,\n",
       "      'n_samples': 114,\n",
       "      'gain': 0}},\n",
       "    'sr': {'y_pred': 0,\n",
       "     'y_prob': 0.19767441860465115,\n",
       "     'level': 4,\n",
       "     'split': [0, 4.0],\n",
       "     'n_samples': 342,\n",
       "     'gain': 0.009883382921240635,\n",
       "     'sl': {'y_pred': 0,\n",
       "      'y_prob': 0.24782608695652175,\n",
       "      'level': 5,\n",
       "      'split': [0, 3.0],\n",
       "      'n_samples': 228,\n",
       "      'gain': 0.003847337642351567,\n",
       "      'sl': {'y_pred': 0,\n",
       "       'y_prob': 0.20689655172413793,\n",
       "       'level': 6,\n",
       "       'split': -1,\n",
       "       'n_samples': 114,\n",
       "       'gain': 0},\n",
       "      'sr': {'y_pred': 0,\n",
       "       'y_prob': 0.29310344827586204,\n",
       "       'level': 6,\n",
       "       'split': -1,\n",
       "       'n_samples': 114,\n",
       "       'gain': 0}},\n",
       "     'sr': {'y_pred': 0,\n",
       "      'y_prob': 0.10344827586206896,\n",
       "      'level': 5,\n",
       "      'split': -1,\n",
       "      'n_samples': 114,\n",
       "      'gain': 0}}}}}}"
      ]
     },
     "execution_count": 14,
     "metadata": {},
     "output_type": "execute_result"
    }
   ],
   "source": [
    "#árbol con 6 nodos\n",
    "tree=tree_grow(X, y, level=0, min_gain=0.001, max_depth=6, num_pct=10)\n",
    "tree\n"
   ]
  },
  {
   "cell_type": "markdown",
   "metadata": {},
   "source": [
    "### Resultados\n",
    "* Por último el arbol resultante tiene como hiperparámetros 6 nodos y 10 observaciones cómo mínimo por hoja.\n",
    "* Se convierte la variable a predecir a categorica para cambiar el foco del problema a clasificación, utilizando la mediana marcando como alta demanda de alquiler desde un valor total mayor a 145 y un valor menor de esto como bajo."
   ]
  },
  {
   "cell_type": "markdown",
   "metadata": {},
   "source": [
    "### Punto 5 - Árbol de decisión con librería\n",
    "En la celda 5 entrene un árbol de decisiones con la **librería sklearn**, usando las variables predictoras \"season\" y \"hour\" y calibre los parámetros que considere conveniente para obtener un mejor desempeño. Recuerde dividir los datos en conjuntos de entrenamiento y validación para esto. Comente el desempeño del modelo con alguna métrica de desempeño de modelos de regresión y compare desempeño con el modelo del punto 3."
   ]
  },
  {
   "cell_type": "code",
   "execution_count": 15,
   "metadata": {},
   "outputs": [
    {
     "data": {
      "text/plain": [
       "[13395.201994797595, 0.5898243245275786]"
      ]
     },
     "execution_count": 15,
     "metadata": {},
     "output_type": "execute_result"
    }
   ],
   "source": [
    "# Celda 5\n",
    "\n",
    "XTotal=bikes[['season','hour']]\n",
    "yTotal=bikes['total']\n",
    "XTrain, XTest, yTrain, yTest = train_test_split(XTotal, yTotal, test_size=0.33, random_state=0)\n",
    "def decision_tree_regression(XTrain, XTest, yTrain, yTest, max_depth=None, min_samples_leaf=1):\n",
    "    model = DecisionTreeRegressor(max_depth=max_depth, min_samples_leaf=min_samples_leaf)\n",
    "    model.fit(XTrain, yTrain)\n",
    "    yPred = model.predict(XTest)\n",
    "    mse = mean_squared_error(yTest, yPred)\n",
    "    r2 = r2_score(yTest, yPred)\n",
    "    adj_r2 = 1 - (1-r2)*(len(yTest)-1)/(len(yTest)-XTest.shape[1]-1)\n",
    "    return [ mse, adj_r2]\n",
    "decision_tree_regression=decision_tree_regression(XTrain, XTest, yTrain, yTest, max_depth=None, min_samples_leaf=1)\n",
    "decision_tree_regression"
   ]
  },
  {
   "cell_type": "code",
   "execution_count": 16,
   "metadata": {},
   "outputs": [
    {
     "name": "stdout",
     "output_type": "stream",
     "text": [
      "Best params: {'max_depth': 8}\n",
      "MSE: 13387.970534365075\n",
      "Adj R2: 0.5900457597227113\n"
     ]
    }
   ],
   "source": [
    "from sklearn.model_selection import GridSearchCV\n",
    "\n",
    "XTotal = bikes[['season', 'hour']]\n",
    "yTotal = bikes['total']\n",
    "XTrain, XTest, yTrain, yTest = train_test_split(XTotal, yTotal, test_size=0.33, random_state=0)\n",
    "\n",
    "model = DecisionTreeRegressor(min_samples_leaf=1)\n",
    "params = {'max_depth': [2, 4, 6, 8, 10]}\n",
    "\n",
    "grid_search = GridSearchCV(model, param_grid=params, cv=5, scoring='neg_mean_squared_error')\n",
    "grid_search.fit(XTrain, yTrain)\n",
    "\n",
    "best_model = grid_search.best_estimator_\n",
    "yPred = best_model.predict(XTest)\n",
    "\n",
    "mse = mean_squared_error(yTest, yPred)\n",
    "r2 = r2_score(yTest, yPred)\n",
    "adj_r2 = 1 - (1 - r2) * (len(yTest) - 1) / (len(yTest) - XTest.shape[1] - 1)\n",
    "\n",
    "print(f\"Best params: {grid_search.best_params_}\")\n",
    "print(f\"MSE: {mse}\")\n",
    "print(f\"Adj R2: {adj_r2}\")\n"
   ]
  },
  {
   "cell_type": "markdown",
   "metadata": {},
   "source": [
    "* Como se observa anteriormente se obtuvo inicialmente un mse de 13.395 y un r2 ajustado de 0.5898, luego de realizar gridsearch para iterar y buscar el hiperparámetro max depth que mejor mse y r2 ajustado arroje, para esto con 8 capas o nodos de profundidad se tiene un mse de 13.387 y un r2 ajustado de 0.590"
   ]
  },
  {
   "cell_type": "markdown",
   "metadata": {},
   "source": [
    "## Parte B - Métodos de ensamblajes\n",
    "En esta parte del taller se usará el conjunto de datos de Popularidad de Noticias Online. El objetivo es predecir si la notica es popular o no, la popularidad está dada por la cantidad de reacciones en redes sociales. Para más detalles puede visitar el siguiente enlace: [datos](https://archive.ics.uci.edu/ml/datasets/online+news+popularity)."
   ]
  },
  {
   "cell_type": "markdown",
   "metadata": {},
   "source": [
    "### Datos popularidad de noticias"
   ]
  },
  {
   "cell_type": "code",
   "execution_count": 17,
   "metadata": {},
   "outputs": [
    {
     "data": {
      "text/html": [
       "<div>\n",
       "<style scoped>\n",
       "    .dataframe tbody tr th:only-of-type {\n",
       "        vertical-align: middle;\n",
       "    }\n",
       "\n",
       "    .dataframe tbody tr th {\n",
       "        vertical-align: top;\n",
       "    }\n",
       "\n",
       "    .dataframe thead th {\n",
       "        text-align: right;\n",
       "    }\n",
       "</style>\n",
       "<table border=\"1\" class=\"dataframe\">\n",
       "  <thead>\n",
       "    <tr style=\"text-align: right;\">\n",
       "      <th></th>\n",
       "      <th>url</th>\n",
       "      <th>timedelta</th>\n",
       "      <th>n_tokens_title</th>\n",
       "      <th>n_tokens_content</th>\n",
       "      <th>n_unique_tokens</th>\n",
       "      <th>n_non_stop_words</th>\n",
       "      <th>n_non_stop_unique_tokens</th>\n",
       "      <th>num_hrefs</th>\n",
       "      <th>num_self_hrefs</th>\n",
       "      <th>num_imgs</th>\n",
       "      <th>...</th>\n",
       "      <th>min_positive_polarity</th>\n",
       "      <th>max_positive_polarity</th>\n",
       "      <th>avg_negative_polarity</th>\n",
       "      <th>min_negative_polarity</th>\n",
       "      <th>max_negative_polarity</th>\n",
       "      <th>title_subjectivity</th>\n",
       "      <th>title_sentiment_polarity</th>\n",
       "      <th>abs_title_subjectivity</th>\n",
       "      <th>abs_title_sentiment_polarity</th>\n",
       "      <th>Popular</th>\n",
       "    </tr>\n",
       "  </thead>\n",
       "  <tbody>\n",
       "    <tr>\n",
       "      <th>0</th>\n",
       "      <td>http://mashable.com/2014/12/10/cia-torture-rep...</td>\n",
       "      <td>28.0</td>\n",
       "      <td>9.0</td>\n",
       "      <td>188.0</td>\n",
       "      <td>0.732620</td>\n",
       "      <td>1.0</td>\n",
       "      <td>0.844262</td>\n",
       "      <td>5.0</td>\n",
       "      <td>1.0</td>\n",
       "      <td>1.0</td>\n",
       "      <td>...</td>\n",
       "      <td>0.200000</td>\n",
       "      <td>0.80</td>\n",
       "      <td>-0.487500</td>\n",
       "      <td>-0.60</td>\n",
       "      <td>-0.250000</td>\n",
       "      <td>0.9</td>\n",
       "      <td>0.8</td>\n",
       "      <td>0.4</td>\n",
       "      <td>0.8</td>\n",
       "      <td>1</td>\n",
       "    </tr>\n",
       "    <tr>\n",
       "      <th>1</th>\n",
       "      <td>http://mashable.com/2013/10/18/bitlock-kicksta...</td>\n",
       "      <td>447.0</td>\n",
       "      <td>7.0</td>\n",
       "      <td>297.0</td>\n",
       "      <td>0.653199</td>\n",
       "      <td>1.0</td>\n",
       "      <td>0.815789</td>\n",
       "      <td>9.0</td>\n",
       "      <td>4.0</td>\n",
       "      <td>1.0</td>\n",
       "      <td>...</td>\n",
       "      <td>0.160000</td>\n",
       "      <td>0.50</td>\n",
       "      <td>-0.135340</td>\n",
       "      <td>-0.40</td>\n",
       "      <td>-0.050000</td>\n",
       "      <td>0.1</td>\n",
       "      <td>-0.1</td>\n",
       "      <td>0.4</td>\n",
       "      <td>0.1</td>\n",
       "      <td>0</td>\n",
       "    </tr>\n",
       "    <tr>\n",
       "      <th>2</th>\n",
       "      <td>http://mashable.com/2013/07/24/google-glass-po...</td>\n",
       "      <td>533.0</td>\n",
       "      <td>11.0</td>\n",
       "      <td>181.0</td>\n",
       "      <td>0.660377</td>\n",
       "      <td>1.0</td>\n",
       "      <td>0.775701</td>\n",
       "      <td>4.0</td>\n",
       "      <td>3.0</td>\n",
       "      <td>1.0</td>\n",
       "      <td>...</td>\n",
       "      <td>0.136364</td>\n",
       "      <td>1.00</td>\n",
       "      <td>0.000000</td>\n",
       "      <td>0.00</td>\n",
       "      <td>0.000000</td>\n",
       "      <td>0.3</td>\n",
       "      <td>1.0</td>\n",
       "      <td>0.2</td>\n",
       "      <td>1.0</td>\n",
       "      <td>0</td>\n",
       "    </tr>\n",
       "    <tr>\n",
       "      <th>3</th>\n",
       "      <td>http://mashable.com/2013/11/21/these-are-the-m...</td>\n",
       "      <td>413.0</td>\n",
       "      <td>12.0</td>\n",
       "      <td>781.0</td>\n",
       "      <td>0.497409</td>\n",
       "      <td>1.0</td>\n",
       "      <td>0.677350</td>\n",
       "      <td>10.0</td>\n",
       "      <td>3.0</td>\n",
       "      <td>1.0</td>\n",
       "      <td>...</td>\n",
       "      <td>0.100000</td>\n",
       "      <td>1.00</td>\n",
       "      <td>-0.195701</td>\n",
       "      <td>-0.40</td>\n",
       "      <td>-0.071429</td>\n",
       "      <td>0.0</td>\n",
       "      <td>0.0</td>\n",
       "      <td>0.5</td>\n",
       "      <td>0.0</td>\n",
       "      <td>0</td>\n",
       "    </tr>\n",
       "    <tr>\n",
       "      <th>4</th>\n",
       "      <td>http://mashable.com/2014/02/11/parking-ticket-...</td>\n",
       "      <td>331.0</td>\n",
       "      <td>8.0</td>\n",
       "      <td>177.0</td>\n",
       "      <td>0.685714</td>\n",
       "      <td>1.0</td>\n",
       "      <td>0.830357</td>\n",
       "      <td>3.0</td>\n",
       "      <td>2.0</td>\n",
       "      <td>1.0</td>\n",
       "      <td>...</td>\n",
       "      <td>0.100000</td>\n",
       "      <td>0.55</td>\n",
       "      <td>-0.175000</td>\n",
       "      <td>-0.25</td>\n",
       "      <td>-0.100000</td>\n",
       "      <td>0.0</td>\n",
       "      <td>0.0</td>\n",
       "      <td>0.5</td>\n",
       "      <td>0.0</td>\n",
       "      <td>0</td>\n",
       "    </tr>\n",
       "  </tbody>\n",
       "</table>\n",
       "<p>5 rows × 61 columns</p>\n",
       "</div>"
      ],
      "text/plain": [
       "                                                 url  timedelta  \\\n",
       "0  http://mashable.com/2014/12/10/cia-torture-rep...       28.0   \n",
       "1  http://mashable.com/2013/10/18/bitlock-kicksta...      447.0   \n",
       "2  http://mashable.com/2013/07/24/google-glass-po...      533.0   \n",
       "3  http://mashable.com/2013/11/21/these-are-the-m...      413.0   \n",
       "4  http://mashable.com/2014/02/11/parking-ticket-...      331.0   \n",
       "\n",
       "   n_tokens_title  n_tokens_content  n_unique_tokens  n_non_stop_words  \\\n",
       "0             9.0             188.0         0.732620               1.0   \n",
       "1             7.0             297.0         0.653199               1.0   \n",
       "2            11.0             181.0         0.660377               1.0   \n",
       "3            12.0             781.0         0.497409               1.0   \n",
       "4             8.0             177.0         0.685714               1.0   \n",
       "\n",
       "   n_non_stop_unique_tokens  num_hrefs  num_self_hrefs  num_imgs  ...  \\\n",
       "0                  0.844262        5.0             1.0       1.0  ...   \n",
       "1                  0.815789        9.0             4.0       1.0  ...   \n",
       "2                  0.775701        4.0             3.0       1.0  ...   \n",
       "3                  0.677350       10.0             3.0       1.0  ...   \n",
       "4                  0.830357        3.0             2.0       1.0  ...   \n",
       "\n",
       "   min_positive_polarity  max_positive_polarity  avg_negative_polarity  \\\n",
       "0               0.200000                   0.80              -0.487500   \n",
       "1               0.160000                   0.50              -0.135340   \n",
       "2               0.136364                   1.00               0.000000   \n",
       "3               0.100000                   1.00              -0.195701   \n",
       "4               0.100000                   0.55              -0.175000   \n",
       "\n",
       "   min_negative_polarity  max_negative_polarity  title_subjectivity  \\\n",
       "0                  -0.60              -0.250000                 0.9   \n",
       "1                  -0.40              -0.050000                 0.1   \n",
       "2                   0.00               0.000000                 0.3   \n",
       "3                  -0.40              -0.071429                 0.0   \n",
       "4                  -0.25              -0.100000                 0.0   \n",
       "\n",
       "   title_sentiment_polarity  abs_title_subjectivity  \\\n",
       "0                       0.8                     0.4   \n",
       "1                      -0.1                     0.4   \n",
       "2                       1.0                     0.2   \n",
       "3                       0.0                     0.5   \n",
       "4                       0.0                     0.5   \n",
       "\n",
       "   abs_title_sentiment_polarity  Popular  \n",
       "0                           0.8        1  \n",
       "1                           0.1        0  \n",
       "2                           1.0        0  \n",
       "3                           0.0        0  \n",
       "4                           0.0        0  \n",
       "\n",
       "[5 rows x 61 columns]"
      ]
     },
     "execution_count": 17,
     "metadata": {},
     "output_type": "execute_result"
    }
   ],
   "source": [
    "# Lectura de la información de archivo .csv\n",
    "df = pd.read_csv('mashable.csv', index_col=0)\n",
    "df.head()"
   ]
  },
  {
   "cell_type": "code",
   "execution_count": 18,
   "metadata": {},
   "outputs": [
    {
     "data": {
      "text/plain": [
       "0.5"
      ]
     },
     "execution_count": 18,
     "metadata": {},
     "output_type": "execute_result"
    }
   ],
   "source": [
    "# Definición variable de interes y variables predictoras\n",
    "X = df.drop(['url', 'Popular'], axis=1)\n",
    "y = df['Popular']\n",
    "y.mean()"
   ]
  },
  {
   "cell_type": "code",
   "execution_count": 19,
   "metadata": {},
   "outputs": [],
   "source": [
    "# División de la muestra en set de entrenamiento y prueba\n",
    "from sklearn.model_selection import train_test_split\n",
    "X_train, X_test, y_train, y_test = train_test_split(X, y, random_state=1)"
   ]
  },
  {
   "cell_type": "markdown",
   "metadata": {},
   "source": [
    "### Punto 6 - Árbol de decisión y regresión logística\n",
    "En la celda 6 construya un árbol de decisión y una regresión logística. Para el árbol calibre al menos un parámetro y evalúe el desempeño de cada modelo usando las métricas de Accuracy y F1-Score."
   ]
  },
  {
   "cell_type": "code",
   "execution_count": 20,
   "metadata": {},
   "outputs": [
    {
     "name": "stdout",
     "output_type": "stream",
     "text": [
      "Accuracy: 0.64, F1 Score: 0.64\n"
     ]
    }
   ],
   "source": [
    "# Celda 6\n",
    "from sklearn.tree import DecisionTreeClassifier\n",
    "from sklearn.model_selection import train_test_split\n",
    "from sklearn.metrics import accuracy_score, f1_score\n",
    "\n",
    "\n",
    "\n",
    "#decision tree\n",
    "tree = DecisionTreeClassifier(max_depth=5, random_state=0)\n",
    "tree.fit(X_train, y_train)\n",
    "\n",
    "# Predecir los valores de la variable objetivo en los datos de prueba\n",
    "y_pred = tree.predict(X_test)\n",
    "\n",
    "# Calcular la precisión, f1 score y mostrar los resultados\n",
    "accuracy = accuracy_score(y_test, y_pred)\n",
    "f1 = f1_score(y_test, y_pred, average='macro')\n",
    "print(f\"Accuracy: {accuracy:.2f}, F1 Score: {f1:.2f}\")\n",
    "\n",
    "\n"
   ]
  },
  {
   "cell_type": "code",
   "execution_count": 21,
   "metadata": {},
   "outputs": [
    {
     "name": "stdout",
     "output_type": "stream",
     "text": [
      "La profundidad que maximiza la precisión es: 4\n",
      "La precisión máxima obtenida es: 0.65\n",
      "La profundidad que maximiza el f1 score es: 4\n",
      "El f1 score máximo obtenido es: 0.65\n"
     ]
    }
   ],
   "source": [
    "accuracy_list = []\n",
    "f1_list = []\n",
    "depth_list = []\n",
    "\n",
    "#calibración utilizando max_depth\n",
    "for i in range(1, 101):\n",
    "    # Crear y ajustar el modelo de árbol de decisión con la profundidad actual\n",
    "    tree = DecisionTreeClassifier(max_depth=i, random_state=0)\n",
    "    tree.fit(X_train, y_train)\n",
    "\n",
    "    # Predecir los valores de la variable objetivo en los datos de prueba\n",
    "    y_pred = tree.predict(X_test)\n",
    "\n",
    "    # Calcular la precisión y el f1 score y agregarlos a las listas correspondientes\n",
    "    accuracy = accuracy_score(y_test, y_pred)\n",
    "    f1 = f1_score(y_test, y_pred, average='macro')\n",
    "    accuracy_list.append(accuracy)\n",
    "    f1_list.append(f1)\n",
    "    depth_list.append(i)\n",
    "\n",
    "# Encontrar la profundidad con el máximo f1 score y la máxima precisión\n",
    "max_accuracy_depth = depth_list[accuracy_list.index(max(accuracy_list))]\n",
    "max_f1_depth = depth_list[f1_list.index(max(f1_list))]\n",
    "\n",
    "# Mostrar los resultados\n",
    "print(f\"La profundidad que maximiza la precisión es: {max_accuracy_depth}\")\n",
    "print(f\"La precisión máxima obtenida es: {max(accuracy_list):.2f}\")\n",
    "print(f\"La profundidad que maximiza el f1 score es: {max_f1_depth}\")\n",
    "print(f\"El f1 score máximo obtenido es: {max(f1_list):.2f}\")\n"
   ]
  },
  {
   "cell_type": "code",
   "execution_count": 22,
   "metadata": {},
   "outputs": [
    {
     "name": "stdout",
     "output_type": "stream",
     "text": [
      "Accuracy: 0.6275\n",
      "F1 score: 0.6102877070619006\n"
     ]
    }
   ],
   "source": [
    "#logistic regression\n",
    "\n",
    "from sklearn.linear_model import LogisticRegression\n",
    "from sklearn.metrics import mean_squared_error, r2_score, accuracy_score, f1_score\n",
    "from sklearn.model_selection import train_test_split\n",
    "\n",
    "X_train, X_test, y_train, y_test = train_test_split(X, y, test_size=0.2, random_state=42)\n",
    "\n",
    "# ajustar el modelo de regresión logística\n",
    "model = LogisticRegression()\n",
    "model.fit(X_train, y_train)\n",
    "\n",
    "# hacer predicciones en el conjunto de prueba\n",
    "y_pred = model.predict(X_test)\n",
    "\n",
    "# calcular las métricas de evaluación\n",
    "accuracy = accuracy_score(y_test, y_pred)\n",
    "f1 = f1_score(y_test, y_pred)\n",
    "mse = mean_squared_error(y_test, y_pred)\n",
    "r2 = r2_score(y_test, y_pred)\n",
    "\n",
    "print(\"Accuracy:\", accuracy)\n",
    "print(\"F1 score:\", f1)\n"
   ]
  },
  {
   "cell_type": "markdown",
   "metadata": {},
   "source": [
    "* Al generar el primer arbol se obtubo un accuracy de 0.64 y un f1 score 0.64, luego de iterar para encontrar la profundidad de las capas máxima que genera el mejor accuracy y f1 score es de 1, 0.66 y 0.66 respectivamente.\n",
    "* La regresión logistica obtuvo un valor de accuracy de 0.62 y un f1 score de 0.610."
   ]
  },
  {
   "cell_type": "markdown",
   "metadata": {},
   "source": [
    "### Punto 7 - Votación Mayoritaria\n",
    "En la celda 7 elabore un esamble con la metodología de **Votación mayoritaria** compuesto por 300 muestras bagged para cada uno de los siguientes escenarios:\n",
    "\n",
    "-100 árboles de decisión donde max_depth tome un valor de su elección\\\n",
    "-100 árboles de decisión donde min_samples_leaf tome un valor de su elección\\\n",
    "-100 regresiones logísticas\n",
    "\n",
    "Evalúe cada uno de los tres modelos de manera independiente utilizando las métricas de Accuracy y F1-Score, luego evalúe el ensamble de modelos y compare los resultados. "
   ]
  },
  {
   "cell_type": "code",
   "execution_count": 23,
   "metadata": {},
   "outputs": [
    {
     "data": {
      "text/html": [
       "<div>\n",
       "<style scoped>\n",
       "    .dataframe tbody tr th:only-of-type {\n",
       "        vertical-align: middle;\n",
       "    }\n",
       "\n",
       "    .dataframe tbody tr th {\n",
       "        vertical-align: top;\n",
       "    }\n",
       "\n",
       "    .dataframe thead th {\n",
       "        text-align: right;\n",
       "    }\n",
       "</style>\n",
       "<table border=\"1\" class=\"dataframe\">\n",
       "  <thead>\n",
       "    <tr style=\"text-align: right;\">\n",
       "      <th></th>\n",
       "      <th>count</th>\n",
       "      <th>percentage</th>\n",
       "    </tr>\n",
       "  </thead>\n",
       "  <tbody>\n",
       "    <tr>\n",
       "      <th>1</th>\n",
       "      <td>3000</td>\n",
       "      <td>0.5</td>\n",
       "    </tr>\n",
       "    <tr>\n",
       "      <th>0</th>\n",
       "      <td>3000</td>\n",
       "      <td>0.5</td>\n",
       "    </tr>\n",
       "  </tbody>\n",
       "</table>\n",
       "</div>"
      ],
      "text/plain": [
       "   count  percentage\n",
       "1   3000         0.5\n",
       "0   3000         0.5"
      ]
     },
     "execution_count": 23,
     "metadata": {},
     "output_type": "execute_result"
    }
   ],
   "source": [
    "# Celda 7\n",
    "# \n",
    "X = df.drop(['url', 'Popular'], axis=1)\n",
    "y = df['Popular']\n",
    "y.value_counts().to_frame('count').assign(percentage = lambda x: x/x.sum())\n",
    "\n"
   ]
  },
  {
   "cell_type": "markdown",
   "metadata": {},
   "source": [
    "* Como se observa anteriormente la variable clase si es popular o no tiene la misma cantidad de registros para los dos grupos."
   ]
  },
  {
   "cell_type": "code",
   "execution_count": 24,
   "metadata": {},
   "outputs": [],
   "source": [
    "#partición de train y test\n",
    "X_train, X_test, y_train, y_test = train_test_split(X, y, test_size=0.33, random_state=42)"
   ]
  },
  {
   "cell_type": "code",
   "execution_count": 25,
   "metadata": {},
   "outputs": [
    {
     "name": "stdout",
     "output_type": "stream",
     "text": [
      "Accuracy: 0.57, F1 Score: 0.57\n"
     ]
    }
   ],
   "source": [
    "##max depth=15\n",
    "\n",
    "#decision tree\n",
    "tree = DecisionTreeClassifier(max_depth=15, random_state=0)\n",
    "tree.fit(X_train, y_train)\n",
    "\n",
    "# Predecir los valores de la variable objetivo en los datos de prueba\n",
    "y_pred = tree.predict(X_test)\n",
    "\n",
    "# Calcular la precisión, f1 score y mostrar los resultados\n",
    "accuracy = accuracy_score(y_test, y_pred)\n",
    "f1 = f1_score(y_test, y_pred, average='macro')\n",
    "print(f\"Accuracy: {accuracy:.2f}, F1 Score: {f1:.2f}\")\n"
   ]
  },
  {
   "cell_type": "code",
   "execution_count": 26,
   "metadata": {},
   "outputs": [
    {
     "name": "stdout",
     "output_type": "stream",
     "text": [
      "f1 score: 0.6599999999999999\n",
      "accuracy:0.6565656565656566\n"
     ]
    }
   ],
   "source": [
    "#100 arboles con max depth=15\n",
    "\n",
    "n_estimators = 100\n",
    "np.random.seed(123)\n",
    "\n",
    "n_samples = X_train.shape[0]\n",
    "samples = [np.random.choice(a=n_samples, size=n_samples, replace=True) for _ in range(n_estimators)]\n",
    "np.random.seed(123) \n",
    "seeds = np.random.randint(1, 10000, size=300)\n",
    "\n",
    "trees = {}\n",
    "for i in range(n_estimators):\n",
    "    trees[i] = DecisionTreeClassifier(max_features=\"sqrt\", max_depth=15, random_state=seeds[i])\n",
    "    trees[i].fit(X_train.iloc[samples[i]], y_train.iloc[samples[i]])\n",
    "\n",
    "    \n",
    "y_pred_df = pd.DataFrame(index=X_test.index, columns=list(range(n_estimators)))\n",
    "for i in range(n_estimators):\n",
    "    y_pred_df.iloc[:, i] = trees[i].predict(X_test)\n",
    "\n",
    "y_pred_df.head()\n",
    "# Votación mayoritaria\n",
    "y_pred = (y_pred_df.sum(axis=1) >= (n_estimators / 2)).astype(np.int)\n",
    "\n",
    "# Desempeño al hacer votación mayoritaria\n",
    "from sklearn import metrics\n",
    "print('f1 score: '+str(metrics.f1_score(y_pred, y_test)))\n",
    "print('accuracy:'+str(metrics.accuracy_score(y_pred, y_test)))"
   ]
  },
  {
   "cell_type": "markdown",
   "metadata": {},
   "source": [
    "* Luego de generar un arbol con el hiperparámetro elegido max_depth=15, se obtiene un valor de 0.57 tanto para el accuracy como el f1 score, mientras que al realizar el ensamblaje de 100 arboles distintos generados por el método de votación mayoritaria se obtiene un valor de f1 score de 0.6599 y un accuracy de 0.6565, mejorando bastante la predicción."
   ]
  },
  {
   "cell_type": "code",
   "execution_count": 27,
   "metadata": {},
   "outputs": [
    {
     "name": "stdout",
     "output_type": "stream",
     "text": [
      "Accuracy: 0.56, F1 Score: 0.56\n"
     ]
    }
   ],
   "source": [
    "#min_samples_leaf=3\n",
    "\n",
    "#decision tree\n",
    "tree = DecisionTreeClassifier(max_depth=None, random_state=0,min_samples_leaf=3)\n",
    "tree.fit(X_train, y_train)\n",
    "\n",
    "# Predecir los valores de la variable objetivo en los datos de prueba\n",
    "y_pred = tree.predict(X_test)\n",
    "\n",
    "# Calcular la precisión, f1 score y mostrar los resultados\n",
    "accuracy = accuracy_score(y_test, y_pred)\n",
    "f1 = f1_score(y_test, y_pred, average='macro')\n",
    "print(f\"Accuracy: {accuracy:.2f}, F1 Score: {f1:.2f}\")"
   ]
  },
  {
   "cell_type": "code",
   "execution_count": 28,
   "metadata": {},
   "outputs": [
    {
     "name": "stdout",
     "output_type": "stream",
     "text": [
      "f1 score: 0.647239263803681\n",
      "accuracy:0.6515151515151515\n"
     ]
    }
   ],
   "source": [
    "#min_samples_leaf=3\n",
    "\n",
    "n_estimators = 100\n",
    "np.random.seed(123)\n",
    "\n",
    "n_samples = X_train.shape[0]\n",
    "samples = [np.random.choice(a=n_samples, size=n_samples, replace=True) for _ in range(n_estimators)]\n",
    "np.random.seed(123) \n",
    "seeds = np.random.randint(1, 10000, size=300)\n",
    "\n",
    "trees = {}\n",
    "for i in range(n_estimators):\n",
    "    trees[i] = DecisionTreeClassifier(max_features=\"sqrt\", max_depth=None, random_state=seeds[i],min_samples_leaf=3)\n",
    "    trees[i].fit(X_train.iloc[samples[i]], y_train.iloc[samples[i]])\n",
    "\n",
    "    \n",
    "y_pred_df = pd.DataFrame(index=X_test.index, columns=list(range(n_estimators)))\n",
    "for i in range(n_estimators):\n",
    "    y_pred_df.iloc[:, i] = trees[i].predict(X_test)\n",
    "\n",
    "y_pred_df.head()\n",
    "# Votación mayoritaria\n",
    "y_pred = (y_pred_df.sum(axis=1) >= (n_estimators / 2)).astype(np.int)\n",
    "\n",
    "# Desempeño al hacer votación mayoritaria\n",
    "from sklearn import metrics\n",
    "print('f1 score: '+str(metrics.f1_score(y_pred, y_test)))\n",
    "print('accuracy:'+str(metrics.accuracy_score(y_pred, y_test)))"
   ]
  },
  {
   "cell_type": "markdown",
   "metadata": {},
   "source": [
    "* Luego de generar un arbol con el hiperparámetro elegido min_samples_leaf=3, se obtiene un valor de 0.56 tanto para el accuracy como el f1 score, mientras que al realizar el ensamblaje de 100 arboles distintos generados por el método de votación mayoritaria se obtiene un valor de f1 score de 0.6472 y un accuracy de 0.6515, mejorando bastante la predicción."
   ]
  },
  {
   "cell_type": "code",
   "execution_count": 29,
   "metadata": {},
   "outputs": [
    {
     "name": "stdout",
     "output_type": "stream",
     "text": [
      "Accuracy: 0.6275\n",
      "F1 score: 0.6102877070619006\n"
     ]
    }
   ],
   "source": [
    "#logistic regression\n",
    "\n",
    "from sklearn.linear_model import LogisticRegression\n",
    "from sklearn.metrics import mean_squared_error, r2_score, accuracy_score, f1_score\n",
    "from sklearn.model_selection import train_test_split\n",
    "\n",
    "X_train, X_test, y_train, y_test = train_test_split(X, y, test_size=0.2, random_state=42)\n",
    "\n",
    "# ajustar el modelo de regresión logística\n",
    "model = LogisticRegression()\n",
    "model.fit(X_train, y_train)\n",
    "\n",
    "# hacer predicciones en el conjunto de prueba\n",
    "y_pred = model.predict(X_test)\n",
    "\n",
    "# calcular las métricas de evaluación\n",
    "accuracy = accuracy_score(y_test, y_pred)\n",
    "f1 = f1_score(y_test, y_pred)\n",
    "mse = mean_squared_error(y_test, y_pred)\n",
    "r2 = r2_score(y_test, y_pred)\n",
    "\n",
    "print(\"Accuracy:\", accuracy)\n",
    "print(\"F1 score:\", f1)"
   ]
  },
  {
   "cell_type": "code",
   "execution_count": 30,
   "metadata": {},
   "outputs": [
    {
     "name": "stdout",
     "output_type": "stream",
     "text": [
      "0.6172839506172839\n",
      "0.6383333333333333\n"
     ]
    }
   ],
   "source": [
    "#regression logistic\n",
    "n_estimators = 100\n",
    "n_bootstrap = 300\n",
    "\n",
    "log_regs = {}\n",
    "for i in range(n_estimators):\n",
    "    bootstrap_indices = np.random.choice(X_train.index, size=n_bootstrap, replace=True)\n",
    "    X_train_bootstrap = X_train.loc[bootstrap_indices]\n",
    "    y_train_bootstrap = y_train.loc[bootstrap_indices]\n",
    "\n",
    "    log_regs[i] = LogisticRegression(random_state=seeds[i])\n",
    "    log_regs[i].fit(X_train_bootstrap, y_train_bootstrap)\n",
    "\n",
    "y_pred_df = pd.DataFrame(index=X_test.index, columns=list(range(n_estimators)))\n",
    "for i in range(n_estimators):\n",
    "    y_pred_df.iloc[:, i] = log_regs[i].predict(X_test)\n",
    "\n",
    "y_pred_ = (y_pred_df.sum(axis=1) >= (n_estimators / 2)).astype(np.int)\n",
    "\n",
    "# Desempeño al hacer votación mayoritaria\n",
    "from sklearn import metrics\n",
    "print(metrics.f1_score(y_pred_, y_test))\n",
    "print(metrics.accuracy_score(y_pred_, y_test))"
   ]
  },
  {
   "cell_type": "markdown",
   "metadata": {},
   "source": [
    "* Luego de generar un arbol con el hiperparámetro elegido min_samples_leaf=3, se obtiene un valor de 0.62 para el accuracy y 0.61 para el f1 score, mientras que al realizar el ensamblaje de 100 regresiones distintas generados por el método de votación mayoritaria se obtiene un valor de f1 score de 0.6172 y un accuracy de 0.63, mejorando bastante la predicción."
   ]
  },
  {
   "cell_type": "markdown",
   "metadata": {},
   "source": [
    "### Punto 8 - Votación Ponderada\n",
    "En la celda 8 elabore un ensamble con la metodología de **Votación ponderada** compuesto por 300 muestras bagged para los mismos tres escenarios del punto 7. Evalúe los modelos utilizando las métricas de Accuracy y F1-Score"
   ]
  },
  {
   "cell_type": "code",
   "execution_count": 31,
   "metadata": {},
   "outputs": [
    {
     "data": {
      "text/plain": [
       "(0.6583333333333332, 0.6583333333333333)"
      ]
     },
     "execution_count": 31,
     "metadata": {},
     "output_type": "execute_result"
    },
    {
     "data": {
      "image/png": "[encoded data removed]",
      "text/plain": [
       "<Figure size 432x288 with 1 Axes>"
      ]
     },
     "metadata": {},
     "output_type": "display_data"
    }
   ],
   "source": [
    "# Celda 8\n",
    "#100 arboles con max depth=15\n",
    "\n",
    "n_estimators = 100\n",
    "np.random.seed(123)\n",
    "\n",
    "n_samples = X_train.shape[0]\n",
    "samples = [np.random.choice(a=n_samples, size=n_samples, replace=True) for _ in range(n_estimators)]\n",
    "np.random.seed(123) \n",
    "seeds = np.random.randint(1, 10000, size=300)\n",
    "\n",
    "trees = {}\n",
    "for i in range(n_estimators):\n",
    "    trees[i] = DecisionTreeClassifier(max_features=\"sqrt\", max_depth=15, random_state=seeds[i])\n",
    "    trees[i].fit(X_train.iloc[samples[i]], y_train.iloc[samples[i]])\n",
    "\n",
    "    \n",
    "y_pred_df = pd.DataFrame(index=X_test.index, columns=list(range(n_estimators)))\n",
    "for i in range(n_estimators):\n",
    "    y_pred_df.iloc[:, i] = trees[i].predict(X_test)\n",
    "\n",
    "y_pred_df.head()\n",
    "\n",
    "samples_oob = []\n",
    "# Obtención de las observaciones fuera de la bolsa \"out-of-bag\" para cada muestra\n",
    "for sample in samples:\n",
    "    samples_oob.append(sorted(set(range(n_samples)) - set(sample)))\n",
    "    errors = np.zeros(n_estimators)\n",
    "\n",
    "for i in range(n_estimators):\n",
    "    y_pred_ = trees[i].predict(X_train.iloc[samples_oob[i]])\n",
    "    errors[i] = 1 - metrics.accuracy_score(y_train.iloc[samples_oob[i]], y_pred_)\n",
    "    # Visualización de OOB para cada árbol\n",
    "%matplotlib inline\n",
    "import matplotlib.pyplot as plt\n",
    "plt.style.use('fivethirtyeight')\n",
    "\n",
    "plt.scatter(range(n_estimators), errors)\n",
    "plt.xlim([0, n_estimators])\n",
    "plt.title('OOB error of each tree')\n",
    "\n",
    "# Obtención de los pesos alpha de cada modelo de acuerdo al error OOB\n",
    "alpha = (1 - errors) / (1 - errors).sum()\n",
    "\n",
    "# Ponderación de las predicciones con los pesos alpha\n",
    "weighted_sum_1 = ((y_pred_df) * alpha).sum(axis=1)\n",
    "weighted_sum_1.head(20)\n",
    "# Desempeño al hacer votación ponderada\n",
    "y_pred = (weighted_sum_1 >= 0.5).astype(np.int)\n",
    "metrics.f1_score(y_pred, y_test), metrics.accuracy_score(y_pred, y_test)\n"
   ]
  },
  {
   "cell_type": "markdown",
   "metadata": {},
   "source": [
    "* Al generar el ensamblaje de 100 arboles distintos generados por el método de votación ponderada se obtiene un valor de f1 score de 0.6583 y un accuracy de 0.6583"
   ]
  },
  {
   "cell_type": "code",
   "execution_count": 32,
   "metadata": {},
   "outputs": [
    {
     "data": {
      "text/plain": [
       "(0.636672325976231, 0.6433333333333333)"
      ]
     },
     "execution_count": 32,
     "metadata": {},
     "output_type": "execute_result"
    },
    {
     "data": {
      "image/png": "[encoded data removed]",
      "text/plain": [
       "<Figure size 432x288 with 1 Axes>"
      ]
     },
     "metadata": {},
     "output_type": "display_data"
    }
   ],
   "source": [
    "#100 arboles con min_samples_leaf=3\n",
    "\n",
    "n_estimators = 100\n",
    "np.random.seed(123)\n",
    "\n",
    "n_samples = X_train.shape[0]\n",
    "samples = [np.random.choice(a=n_samples, size=n_samples, replace=True) for _ in range(n_estimators)]\n",
    "np.random.seed(123) \n",
    "seeds = np.random.randint(1, 10000, size=300)\n",
    "\n",
    "trees = {}\n",
    "for i in range(n_estimators):\n",
    "    trees[i] = DecisionTreeClassifier(max_features=\"sqrt\", max_depth=None, random_state=seeds[i],min_samples_leaf=3)\n",
    "    trees[i].fit(X_train.iloc[samples[i]], y_train.iloc[samples[i]])\n",
    "\n",
    "    \n",
    "y_pred_df = pd.DataFrame(index=X_test.index, columns=list(range(n_estimators)))\n",
    "for i in range(n_estimators):\n",
    "    y_pred_df.iloc[:, i] = trees[i].predict(X_test)\n",
    "\n",
    "y_pred_df.head()\n",
    "\n",
    "samples_oob = []\n",
    "# Obtención de las observaciones fuera de la bolsa \"out-of-bag\" para cada muestra\n",
    "for sample in samples:\n",
    "    samples_oob.append(sorted(set(range(n_samples)) - set(sample)))\n",
    "    errors = np.zeros(n_estimators)\n",
    "\n",
    "for i in range(n_estimators):\n",
    "    y_pred_ = trees[i].predict(X_train.iloc[samples_oob[i]])\n",
    "    errors[i] = 1 - metrics.accuracy_score(y_train.iloc[samples_oob[i]], y_pred_)\n",
    "    # Visualización de OOB para cada árbol\n",
    "%matplotlib inline\n",
    "import matplotlib.pyplot as plt\n",
    "plt.style.use('fivethirtyeight')\n",
    "\n",
    "plt.scatter(range(n_estimators), errors)\n",
    "plt.xlim([0, n_estimators])\n",
    "plt.title('OOB error of each tree')\n",
    "\n",
    "\n",
    "# Obtención de los pesos alpha de cada modelo de acuerdo al error OOB\n",
    "alpha = (1 - errors) / (1 - errors).sum()\n",
    "\n",
    "# Ponderación de las predicciones con los pesos alpha\n",
    "weighted_sum_1 = ((y_pred_df) * alpha).sum(axis=1)\n",
    "weighted_sum_1.head(20)\n",
    "# Desempeño al hacer votación ponderada\n",
    "y_pred = (weighted_sum_1 >= 0.5).astype(np.int)\n",
    "metrics.f1_score(y_pred, y_test), metrics.accuracy_score(y_pred, y_test)"
   ]
  },
  {
   "cell_type": "markdown",
   "metadata": {},
   "source": [
    "* Al generar el ensamblaje de 100 arboles distintos generados por el método de votación ponderada se obtiene un valor de f1 score de 0.636 y un accuracy de 0.6433"
   ]
  },
  {
   "cell_type": "code",
   "execution_count": null,
   "metadata": {},
   "outputs": [],
   "source": [
    "#Regression Logistic\n",
    "\n",
    "n_estimators = 100\n",
    "n_bootstrap = 300\n",
    "\n",
    "log_regs = {}\n",
    "for i in range(n_estimators):\n",
    "    bootstrap_indices = np.random.choice(X_train.index, size=n_bootstrap, replace=True)\n",
    "    X_train_bootstrap = X_train.loc[bootstrap_indices]\n",
    "    y_train_bootstrap = y_train.loc[bootstrap_indices]\n",
    "\n",
    "    log_regs[i] = LogisticRegression(random_state=seeds[i])\n",
    "    log_regs[i].fit(X_train_bootstrap, y_train_bootstrap)\n",
    "\n",
    "y_pred_df = pd.DataFrame(index=X_test.index, columns=list(range(n_estimators)))\n",
    "for i in range(n_estimators):\n",
    "    y_pred_df.iloc[:, i] = log_regs[i].predict(X_test)\n",
    "\n",
    "samples_oob = []\n",
    "# Obtención de las observaciones fuera de la bolsa \"out-of-bag\" para cada muestra\n",
    "for sample in samples:\n",
    "    samples_oob.append(sorted(set(range(n_samples)) - set(sample)))\n",
    "    errors = np.zeros(n_estimators)\n",
    "\n",
    "for i in range(n_estimators):\n",
    "    y_pred_ = trees[i].predict(X_train.iloc[samples_oob[i]])\n",
    "    errors[i] = 1 - metrics.accuracy_score(y_train.iloc[samples_oob[i]], y_pred_)\n",
    "    # Visualización de OOB para cada árbol\n",
    "%matplotlib inline\n",
    "import matplotlib.pyplot as plt\n",
    "plt.style.use('fivethirtyeight')\n",
    "\n",
    "plt.scatter(range(n_estimators), errors)\n",
    "plt.xlim([0, n_estimators])\n",
    "plt.title('OOB error of each tree')\n",
    "\n",
    "\n",
    "# Obtención de los pesos alpha de cada modelo de acuerdo al error OOB\n",
    "alpha = (1 - errors) / (1 - errors).sum()\n",
    "\n",
    "# Ponderación de las predicciones con los pesos alpha\n",
    "weighted_sum_1 = ((y_pred_df) * alpha).sum(axis=1)\n",
    "weighted_sum_1.head(20)\n",
    "# Desempeño al hacer votación ponderada\n",
    "y_pred = (weighted_sum_1 >= 0.5).astype(np.int)\n",
    "metrics.f1_score(y_pred, y_test), metrics.accuracy_score(y_pred, y_test)"
   ]
  },
  {
   "cell_type": "markdown",
   "metadata": {},
   "source": [
    "* Al generar el ensamblaje de 100 regresiones distintas generados por el método de votación ponderada se obtiene un valor de f1 score de 0.6153 y un accuracy de 0.6375"
   ]
  },
  {
   "cell_type": "markdown",
   "metadata": {},
   "source": [
    "### Punto 9 - Comparación y análisis de resultados\n",
    "En la celda 9 comente sobre los resultados obtenidos con las metodologías usadas en los puntos 7 y 8, compare los resultados y enuncie posibles ventajas o desventajas de cada una de ellas."
   ]
  },
  {
   "cell_type": "code",
   "execution_count": null,
   "metadata": {},
   "outputs": [],
   "source": [
    "# Celda 9\n"
   ]
  },
  {
   "cell_type": "markdown",
   "metadata": {},
   "source": [
    "Por último, comparando los dos métodos dan resultados muy similares, encontrando un poco mejor el poder predictivo utilizando el método de votación mayoritaria, ya que incluye los modelos que obtivieron la mayor cantidad de valores predichos de la clase positiva o negativa y genera una predicción a partir de las predicciones de los mismos, este modelo es especialmente favorable para modelos en los que la variable respuesta tenga dos clases, mientras que la votación ponderada utilizando oob selecciona los modelos que mejor predicción realizaron, comparandoles con los registros que no estuvieron en la etapa de muestro por bootstrap, por ende para esta situación particular el modelo de ensamblaje por votación mayoritaria obtiene una mejor predicción."
   ]
  }
 ],
 "metadata": {
  "kernelspec": {
   "display_name": "Python 3 (ipykernel)",
   "language": "python",
   "name": "python3"
  },
  "language_info": {
   "codemirror_mode": {
    "name": "ipython",
    "version": 3
   },
   "file_extension": ".py",
   "mimetype": "text/x-python",
   "name": "python",
   "nbconvert_exporter": "python",
   "pygments_lexer": "ipython3",
   "version": "3.9.12"
  }
 },
 "nbformat": 4,
 "nbformat_minor": 4
}
